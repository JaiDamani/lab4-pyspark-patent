{
 "cells": [
  {
   "cell_type": "code",
   "execution_count": 1,
   "id": "43103119-8c45-4aca-b05d-e1785a82c11b",
   "metadata": {},
   "outputs": [],
   "source": [
    "# Cell 1: Imports + SparkSession\n",
    "from pyspark.sql import SparkSession\n",
    "from pyspark.sql import functions as F\n",
    "from pyspark.sql.types import IntegerType, StringType\n",
    "\n",
    "spark = SparkSession.builder \\\n",
    "    .appName(\"PatentJoinDataFrame\") \\\n",
    "    .master(\"local[*]\") \\\n",
    "    .getOrCreate()\n",
    "\n",
    "# reduce logging noise\n",
    "spark.sparkContext.setLogLevel(\"WARN\")\n"
   ]
  },
  {
   "cell_type": "code",
   "execution_count": 2,
   "id": "e3583c4d-1b28-4a25-998f-8e1a7a4b575e",
   "metadata": {},
   "outputs": [],
   "source": [
    "# Cell 2: paths (change if your files are somewhere else)\n",
    "patent_path = \"apat63_99.txt\"   # the patent file (CSV-like)\n",
    "citations_path = \"cite75_99.txt\"  # the citation file (two ints per line)\n"
   ]
  },
  {
   "cell_type": "code",
   "execution_count": 3,
   "id": "66d83565-9d3b-4177-a157-50831638d66f",
   "metadata": {},
   "outputs": [
    {
     "name": "stdout",
     "output_type": "stream",
     "text": [
      "Patents columns: ['_c0', '_c1', '_c2', '_c3', '_c4', '_c5', '_c6', '_c7', '_c8', '_c9', '_c10', '_c11', '_c12', '_c13', '_c14', '_c15', '_c16', '_c17', '_c18', '_c19', '_c20', '_c21', '_c22']\n",
      "+-------+-----+-----+-------+-------+-------+--------+-------+------+------+----+------+-----+--------+--------+-------+--------+--------+--------+--------+--------+--------+--------+\n",
      "|_c0    |_c1  |_c2  |_c3    |_c4    |_c5    |_c6     |_c7    |_c8   |_c9   |_c10|_c11  |_c12 |_c13    |_c14    |_c15   |_c16    |_c17    |_c18    |_c19    |_c20    |_c21    |_c22    |\n",
      "+-------+-----+-----+-------+-------+-------+--------+-------+------+------+----+------+-----+--------+--------+-------+--------+--------+--------+--------+--------+--------+--------+\n",
      "|PATENT |GYEAR|GDATE|APPYEAR|COUNTRY|POSTATE|ASSIGNEE|ASSCODE|CLAIMS|NCLASS|CAT |SUBCAT|CMADE|CRECEIVE|RATIOCIT|GENERAL|ORIGINAL|FWDAPLAG|BCKGTLAG|SELFCTUB|SELFCTLB|SECDUPBD|SECDLWBD|\n",
      "|3070801|1963 |1096 |NULL   |BE     |NULL   |NULL    |1      |NULL  |269   |6   |69    |NULL |1       |NULL    |0      |NULL    |NULL    |NULL    |NULL    |NULL    |NULL    |NULL    |\n",
      "|3070802|1963 |1096 |NULL   |US     |TX     |NULL    |1      |NULL  |2     |6   |63    |NULL |0       |NULL    |NULL   |NULL    |NULL    |NULL    |NULL    |NULL    |NULL    |NULL    |\n",
      "|3070803|1963 |1096 |NULL   |US     |IL     |NULL    |1      |NULL  |2     |6   |63    |NULL |9       |NULL    |0.3704 |NULL    |NULL    |NULL    |NULL    |NULL    |NULL    |NULL    |\n",
      "|3070804|1963 |1096 |NULL   |US     |OH     |NULL    |1      |NULL  |2     |6   |63    |NULL |3       |NULL    |0.6667 |NULL    |NULL    |NULL    |NULL    |NULL    |NULL    |NULL    |\n",
      "+-------+-----+-----+-------+-------+-------+--------+-------+------+------+----+------+-----+--------+--------+-------+--------+--------+--------+--------+--------+--------+--------+\n",
      "only showing top 5 rows\n",
      "\n"
     ]
    }
   ],
   "source": [
    "# Cell 3: Read patents file - unknown columns _c0.._cN (spark handles quoted fields)\n",
    "patents_df = spark.read.csv(patent_path, header=False, quote='\"', multiLine=False).cache()\n",
    "\n",
    "# quick peek\n",
    "print(\"Patents columns:\", patents_df.columns)\n",
    "patents_df.show(5, truncate=False)\n"
   ]
  },
  {
   "cell_type": "code",
   "execution_count": 4,
   "id": "8015924d-a514-4f50-a0a5-933010b036a2",
   "metadata": {},
   "outputs": [
    {
     "name": "stdout",
     "output_type": "stream",
     "text": [
      "+---------+-------+-------+\n",
      "|patent_id|country|state  |\n",
      "+---------+-------+-------+\n",
      "|NULL     |COUNTRY|POSTATE|\n",
      "|3070801  |BE     |NULL   |\n",
      "|3070802  |US     |TX     |\n",
      "|3070803  |US     |IL     |\n",
      "|3070804  |US     |OH     |\n",
      "|3070805  |US     |CA     |\n",
      "|3070806  |US     |PA     |\n",
      "|3070807  |US     |OH     |\n",
      "|3070808  |US     |IA     |\n",
      "|3070809  |US     |AZ     |\n",
      "+---------+-------+-------+\n",
      "only showing top 10 rows\n",
      "\n"
     ]
    }
   ],
   "source": [
    "# Cell 4: Extract essential metadata: patent_id, country, state\n",
    "pat_meta = patents_df.select(\n",
    "    F.col(\"_c0\").alias(\"patent_id\").cast(IntegerType()),\n",
    "    F.col(\"_c4\").alias(\"country\"),\n",
    "    F.col(\"_c5\").alias(\"state\")\n",
    ").withColumn(\"state\", F.when(F.col(\"state\") == \"\", None).otherwise(F.col(\"state\"))) \\\n",
    " .cache()\n",
    "\n",
    "pat_meta.show(10, truncate=False)\n"
   ]
  },
  {
   "cell_type": "code",
   "execution_count": 5,
   "id": "1a76509f-c327-4e24-8f2b-46bcafd6575e",
   "metadata": {},
   "outputs": [
    {
     "name": "stdout",
     "output_type": "stream",
     "text": [
      "+------+-----+\n",
      "|citing|cited|\n",
      "+------+-----+\n",
      "+------+-----+\n",
      "\n"
     ]
    }
   ],
   "source": [
    "# Cell 5: Read citations file (text) and split by whitespace into two ints: citing, cited\n",
    "citations_df = spark.read.text(citations_path).select(\n",
    "    F.split(F.col(\"value\"), \"\\\\s+\").alias(\"parts\")\n",
    ").filter(F.size(\"parts\") == 2).select(\n",
    "    F.col(\"parts\").getItem(0).cast(IntegerType()).alias(\"citing\"),\n",
    "    F.col(\"parts\").getItem(1).cast(IntegerType()).alias(\"cited\")\n",
    ").cache()\n",
    "\n",
    "citations_df.show(6, truncate=False)\n"
   ]
  },
  {
   "cell_type": "code",
   "execution_count": 6,
   "id": "69dda5a5-54b5-44e9-9606-a3407ed4c1a3",
   "metadata": {},
   "outputs": [
    {
     "name": "stdout",
     "output_type": "stream",
     "text": [
      "+------+-----+-----------+------------+\n",
      "|citing|cited|cited_state|citing_state|\n",
      "+------+-----+-----------+------------+\n",
      "+------+-----+-----------+------------+\n",
      "\n"
     ]
    }
   ],
   "source": [
    "# Cell 6: Join to bring in cited_state and citing_state\n",
    "# join to get cited_state (left join so missing patent metadata is preserved)\n",
    "cited_join = citations_df.join(\n",
    "    pat_meta.select(F.col(\"patent_id\").alias(\"cited\"), F.col(\"state\").alias(\"cited_state\")),\n",
    "    on=\"cited\",\n",
    "    how=\"left\"\n",
    ")\n",
    "\n",
    "# join again to get citing_state\n",
    "cited_with_states = cited_join.join(\n",
    "    pat_meta.select(F.col(\"patent_id\").alias(\"citing\"), F.col(\"state\").alias(\"citing_state\")),\n",
    "    on=\"citing\",\n",
    "    how=\"left\"\n",
    ")\n",
    "\n",
    "# columns: citing, cited, cited_state, citing_state\n",
    "cited_with_states.select(\"citing\", \"cited\", \"cited_state\", \"citing_state\").show(8, truncate=False)\n"
   ]
  },
  {
   "cell_type": "code",
   "execution_count": 7,
   "id": "24e361aa-3001-4114-ab38-7a8753386338",
   "metadata": {},
   "outputs": [
    {
     "name": "stdout",
     "output_type": "stream",
     "text": [
      "+------+--------------------+\n",
      "|citing|same_state_citations|\n",
      "+------+--------------------+\n",
      "+------+--------------------+\n",
      "\n"
     ]
    }
   ],
   "source": [
    "# Cell 7: Compute same-state counts\n",
    "same_state_counts = cited_with_states \\\n",
    "    .filter((F.col(\"cited_state\").isNotNull()) & (F.col(\"citing_state\").isNotNull())) \\\n",
    "    .withColumn(\"same\", F.when(F.col(\"cited_state\") == F.col(\"citing_state\"), 1).otherwise(0)) \\\n",
    "    .groupBy(\"citing\") \\\n",
    "    .agg(F.sum(\"same\").cast(IntegerType()).alias(\"same_state_citations\")) \\\n",
    "    .cache()\n",
    "\n",
    "same_state_counts.show(10)\n"
   ]
  },
  {
   "cell_type": "code",
   "execution_count": 8,
   "id": "f4ec500b-6168-4928-927f-7fec29a7a728",
   "metadata": {},
   "outputs": [
    {
     "name": "stdout",
     "output_type": "stream",
     "text": [
      "+-------+-------+-------+--------------------+\n",
      "|_c0    |_c4    |_c5    |same_state_citations|\n",
      "+-------+-------+-------+--------------------+\n",
      "|PATENT |COUNTRY|POSTATE|NULL                |\n",
      "|3070801|BE     |NULL   |NULL                |\n",
      "|3070802|US     |TX     |0                   |\n",
      "|3070803|US     |IL     |0                   |\n",
      "|3070804|US     |OH     |0                   |\n",
      "|3070805|US     |CA     |0                   |\n",
      "|3070806|US     |PA     |0                   |\n",
      "|3070807|US     |OH     |0                   |\n",
      "|3070808|US     |IA     |0                   |\n",
      "|3070809|US     |AZ     |0                   |\n",
      "|3070810|US     |IL     |0                   |\n",
      "|3070811|US     |CA     |0                   |\n",
      "+-------+-------+-------+--------------------+\n",
      "only showing top 12 rows\n",
      "\n"
     ]
    }
   ],
   "source": [
    "# Cell 8: Attach counts back to original patent frame and add the column.\n",
    "# Ensure we have a patent_id column to join on\n",
    "patents_full = patents_df.withColumn(\"patent_id\", F.col(\"_c0\").cast(IntegerType()))\n",
    "\n",
    "# join counts\n",
    "patents_aug = patents_full.join(\n",
    "    same_state_counts,\n",
    "    patents_full.patent_id == same_state_counts.citing,\n",
    "    how=\"left\"\n",
    ")\n",
    "\n",
    "# For patents with country == \"US\" and a non-empty state, the value should be a number (0 if no same-state),\n",
    "# otherwise keep null/empty for non-US or missing-state patents.\n",
    "patents_aug = patents_aug.withColumn(\n",
    "    \"same_state_citations\",\n",
    "    F.when(\n",
    "        (F.col(\"_c4\") == \"US\") & (F.col(\"_c5\").isNotNull()) & (F.col(\"_c5\") != \"\"),\n",
    "        F.coalesce(F.col(\"same_state_citations\"), F.lit(0))\n",
    "    ).otherwise(F.lit(None))\n",
    ")\n",
    "\n",
    "# Show a few augmented rows\n",
    "patents_aug.select(\"_c0\", \"_c4\", \"_c5\", \"same_state_citations\").show(12, truncate=False)\n"
   ]
  },
  {
   "cell_type": "code",
   "execution_count": 9,
   "id": "52aeb57e-bfde-498c-b8fa-e8ee620cd791",
   "metadata": {},
   "outputs": [
    {
     "name": "stdout",
     "output_type": "stream",
     "text": [
      "+---------+--------------------+\n",
      "|patent_id|same_state_citations|\n",
      "+---------+--------------------+\n",
      "|4649756  |0                   |\n",
      "|3070802  |0                   |\n",
      "|4649759  |0                   |\n",
      "|3070803  |0                   |\n",
      "|4649760  |0                   |\n",
      "|3070804  |0                   |\n",
      "|4649766  |0                   |\n",
      "|3070805  |0                   |\n",
      "|4649767  |0                   |\n",
      "|3070806  |0                   |\n",
      "+---------+--------------------+\n",
      "\n"
     ]
    }
   ],
   "source": [
    "# Cell 9: Top 10 patents by same-state citations (descending)\n",
    "top10 = patents_aug \\\n",
    "    .select(F.col(\"_c0\").cast(IntegerType()).alias(\"patent_id\"), \"same_state_citations\") \\\n",
    "    .filter(F.col(\"same_state_citations\").isNotNull()) \\\n",
    "    .orderBy(F.col(\"same_state_citations\").desc()) \\\n",
    "    .limit(10)\n",
    "\n",
    "top10.show(10, truncate=False)\n"
   ]
  },
  {
   "cell_type": "code",
   "execution_count": 11,
   "id": "290eb226-9b43-47d9-823b-fd5966ccc054",
   "metadata": {},
   "outputs": [
    {
     "name": "stdout",
     "output_type": "stream",
     "text": [
      "+------------------------------------------------------------------------------------------------------------------------------------------------------------------------------------+\n",
      "|augmented_line                                                                                                                                                                      |\n",
      "+------------------------------------------------------------------------------------------------------------------------------------------------------------------------------------+\n",
      "|PATENT,GYEAR,GDATE,APPYEAR,COUNTRY,POSTATE,ASSIGNEE,ASSCODE,CLAIMS,NCLASS,CAT,SUBCAT,CMADE,CRECEIVE,RATIOCIT,GENERAL,ORIGINAL,FWDAPLAG,BCKGTLAG,SELFCTUB,SELFCTLB,SECDUPBD,SECDLWBD,|\n",
      "|3070801,1963,1096,,BE,,,1,,269,6,69,,1,,0,,,,,,,,                                                                                                                                   |\n",
      "|3070802,1963,1096,,US,TX,,1,,2,6,63,,0,,,,,,,,,,0                                                                                                                                   |\n",
      "|3070803,1963,1096,,US,IL,,1,,2,6,63,,9,,0.3704,,,,,,,,0                                                                                                                             |\n",
      "|3070804,1963,1096,,US,OH,,1,,2,6,63,,3,,0.6667,,,,,,,,0                                                                                                                             |\n",
      "+------------------------------------------------------------------------------------------------------------------------------------------------------------------------------------+\n",
      "only showing top 5 rows\n",
      "\n"
     ]
    }
   ],
   "source": [
    "# We reconstruct fields (coalesce nulls to empty strings so that appended column always appears).\n",
    "original_cols = patents_df.columns  # _c0, _c1, ... as strings\n",
    "cols_to_concat = [F.coalesce(F.col(c).cast(StringType()), F.lit('')) for c in original_cols] \\\n",
    "                 + [F.coalesce(F.col(\"same_state_citations\").cast(StringType()), F.lit(''))]\n",
    "\n",
    "patents_with_augmented_line = patents_aug.withColumn(\"augmented_line\", F.concat_ws(\",\", *cols_to_concat))\n",
    "patents_with_augmented_line.select(\"augmented_line\").show(5, truncate=False)\n",
    "\n",
    "\n",
    "patents_with_augmented_line.select(\"augmented_line\").write.text(\"patents_augmented_out\")\n"
   ]
  },
  {
   "cell_type": "code",
   "execution_count": null,
   "id": "b7df6450-ce49-40bd-9394-ba31b9ba96de",
   "metadata": {},
   "outputs": [],
   "source": []
  }
 ],
 "metadata": {
  "kernelspec": {
   "display_name": "Python 3 (ipykernel)",
   "language": "python",
   "name": "python3"
  },
  "language_info": {
   "codemirror_mode": {
    "name": "ipython",
    "version": 3
   },
   "file_extension": ".py",
   "mimetype": "text/x-python",
   "name": "python",
   "nbconvert_exporter": "python",
   "pygments_lexer": "ipython3",
   "version": "3.11.9"
  }
 },
 "nbformat": 4,
 "nbformat_minor": 5
}
